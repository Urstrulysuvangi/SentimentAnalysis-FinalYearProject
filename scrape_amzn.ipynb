{
 "cells": [
  {
   "cell_type": "code",
   "execution_count": 2,
   "metadata": {},
   "outputs": [],
   "source": [
    "import requests\n",
    "from bs4 import BeautifulSoup\n",
    "import pandas as pd"
   ]
  },
  {
   "cell_type": "code",
   "execution_count": null,
   "metadata": {},
   "outputs": [],
   "source": [
    "!pip install requests_html"
   ]
  },
  {
   "cell_type": "code",
   "execution_count": 1,
   "metadata": {},
   "outputs": [],
   "source": [
    "from requests_html import HTMLSession\n",
    "import json\n",
    "import time"
   ]
  },
  {
   "cell_type": "code",
   "execution_count": 8,
   "metadata": {},
   "outputs": [
    {
     "name": "stdout",
     "output_type": "stream",
     "text": [
      "getting page 1\n",
      "getting page 2\n",
      "no more pages\n",
      "[[{'title': 'Enjoy the music', 'rating': '5.0 out of 5 stars', 'body': 'Very very very nice product ,best soundquality and extreme long lasting battery in one charge ,I cha'}, {'title': 'Good experience', 'rating': '3.0 out of 5 stars', 'body': \"Apart from the sound leak i am having good experience with this product. I didn't have any kind of d\"}, {'title': 'beautiful and sound is really good', 'rating': '4.0 out of 5 stars', 'body': None}, {'title': 'Bad quality product receive in today', 'rating': '1.0 out of 5 stars', 'body': ''}, {'title': 'Nice', 'rating': '5.0 out of 5 stars', 'body': 'Nice'}, {'title': 'Best product headphones 🎧', 'rating': '5.0 out of 5 stars', 'body': ''}, {'title': 'Boat rockerz 400', 'rating': '5.0 out of 5 stars', 'body': 'Must busy super product'}, {'title': 'Value for money', 'rating': '4.0 out of 5 stars', 'body': 'At this price it is best but not Comfortable for more time'}, {'title': 'The only drawback for me is', 'rating': '3.0 out of 5 stars', 'body': 'The only drawback for me is there is no adjustments according to the size of the head. My ears getti'}, {'title': 'Uncomfortable', 'rating': '2.0 out of 5 stars', 'body': 'Looks good, but really uncomfortable, the pad hurts your ears when worn for long time, the headphone'}]]\n"
     ]
    }
   ],
   "source": [
    "class Reviews:\n",
    "    def __init__(self, asin) -> None:\n",
    "        self.asin = asin\n",
    "        self.session = HTMLSession()\n",
    "        self.headers = {'User-Agent': 'Mozilla/5.0 (Windows NT 10.0; Win64; x64) AppleWebKit/537.36 (KHTML, like Gecko) Chrome/112.0.0.0 Safari/537.36'}\n",
    "        self.url = f'https://www.amazon.in/product-reviews/{self.asin}/ref=cm_cr_dp_d_show_all_btm?ie=UTF8&reviewerType=all_reviews&sortBy=recent&pageNumber='\n",
    "\n",
    "    def pagination(self, page):\n",
    "        r = self.session.get(self.url + str(page))\n",
    "        if not r.html.find('div[data-hook=review]'):\n",
    "            return False\n",
    "        else:\n",
    "            return r.html.find('div[data-hook=review]')\n",
    "        \n",
    "    def parse(self, reviews):\n",
    "        total = []\n",
    "        for review in reviews:\n",
    "            title_element = review.find('a[data-hook=review-title]', first=True)\n",
    "            if title_element:\n",
    "                title = title_element.text\n",
    "            else:\n",
    "                title = None\n",
    "            \n",
    "            rating_element = review.find('i[data-hook=review-star-rating] span', first=True)\n",
    "            if rating_element:\n",
    "                rating = rating_element.text\n",
    "            else:\n",
    "                rating = None\n",
    "            \n",
    "            body_element = review.find('span[data-hook=review-body] span', first=True)\n",
    "            if body_element:\n",
    "                body = body_element.text.replace('\\n','').strip()[:100]\n",
    "            else:\n",
    "                body = None\n",
    "\n",
    "            data = {\n",
    "                'title' : title,\n",
    "                'rating' : rating, \n",
    "                'body': body\n",
    "            }\n",
    "            total.append(data)\n",
    "        return total\n",
    "\n",
    "    def save(self, results):\n",
    "        with open(self.asin + \"-reviews.json\", 'w') as f:\n",
    "            json.dump(results, f)\n",
    "\n",
    "\n",
    "\n",
    "if __name__ == '__main__':\n",
    "    # asin_val = input(\"Enter the asin value of the product: \")\n",
    "    amz = Reviews(\"B01FSYQ2A4\")\n",
    "    results = []\n",
    "    for x in range(1,5):\n",
    "        print('getting page', x)\n",
    "        time.sleep(0.3)\n",
    "        reviews = amz.pagination(x)\n",
    "        if reviews is not False:\n",
    "            results.append(amz.parse(reviews))\n",
    "        else:\n",
    "            print('no more pages')\n",
    "            break\n",
    "        \n",
    "    print(results)\n",
    "    # amz.save(results)\n"
   ]
  },
  {
   "cell_type": "code",
   "execution_count": null,
   "metadata": {},
   "outputs": [],
   "source": []
  }
 ],
 "metadata": {
  "kernelspec": {
   "display_name": "Python 3",
   "language": "python",
   "name": "python3"
  },
  "language_info": {
   "codemirror_mode": {
    "name": "ipython",
    "version": 3
   },
   "file_extension": ".py",
   "mimetype": "text/x-python",
   "name": "python",
   "nbconvert_exporter": "python",
   "pygments_lexer": "ipython3",
   "version": "3.11.1"
  },
  "orig_nbformat": 4
 },
 "nbformat": 4,
 "nbformat_minor": 2
}
